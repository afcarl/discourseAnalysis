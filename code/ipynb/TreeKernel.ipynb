{
 "cells": [
  {
   "cell_type": "markdown",
   "metadata": {},
   "source": [
    "# Tree Kernel"
   ]
  },
  {
   "cell_type": "code",
   "execution_count": 1,
   "metadata": {
    "collapsed": false
   },
   "outputs": [],
   "source": [
    "from nltk.tree import Tree\n",
    "import numpy as np\n",
    "tree = Tree.fromstring('( NN-textualorganization ( EDU 1 )  ( SN-purpose ( NS-elaboration ( EDU 2 )  ( NS-temporal ( EDU 3 )  ( EDU 4 )  )  )  ( NS-elaboration ( NS-elaboration ( EDU 5 )  ( EDU 6 )  )  ( EDU 7 )  )  )  )')"
   ]
  },
  {
   "cell_type": "code",
   "execution_count": 2,
   "metadata": {
    "collapsed": false,
    "scrolled": true
   },
   "outputs": [
    {
     "data": {
      "image/png": "[encoded data removed]",
      "text/plain": [
       "Tree('NN-textualorganization', [Tree('EDU', ['1']), Tree('SN-purpose', [Tree('NS-elaboration', [Tree('EDU', ['2']), Tree('NS-temporal', [Tree('EDU', ['3']), Tree('EDU', ['4'])])]), Tree('NS-elaboration', [Tree('NS-elaboration', [Tree('EDU', ['5']), Tree('EDU', ['6'])]), Tree('EDU', ['7'])])])])"
      ]
     },
     "execution_count": 2,
     "metadata": {},
     "output_type": "execute_result"
    }
   ],
   "source": [
    "tree"
   ]
  },
  {
   "cell_type": "code",
   "execution_count": 3,
   "metadata": {
    "collapsed": false
   },
   "outputs": [
    {
     "name": "stdout",
     "output_type": "stream",
     "text": [
      "244\n",
      "452\n"
     ]
    }
   ],
   "source": [
    "def clean_tree(tree):\n",
    "    \"\"\"Returns a tree without any digits\"\"\"\n",
    "    strtree=str(tree)\n",
    "    match=re.findall(r'[^0-9]+',str(strtree))\n",
    "    strtree=''.join(match)\n",
    "    return Tree.fromstring(strtree)\n",
    "\n",
    "def TreeKernel(T1,T2,const=1,rho=1):\n",
    "    '''returns the number of common subset tree if rho=1 and common \n",
    "        subtrees if rho=0.\n",
    "        const balances the contribution of subtrees: small values\n",
    "        decay the contribution of lower nodes in large subtrees.'''\n",
    "    K=0\n",
    "    for t1 in T1.subtrees():\n",
    "        for t2 in T2.subtrees():\n",
    "            K+=delta(t1,t2,const,rho)\n",
    "    return K\n",
    "\n",
    "\n",
    "def same_root(T1,T2):\n",
    "    '''returns true only if the label of the root nodes are the same.'''\n",
    "    return T1.label()==T2.label()\n",
    "\n",
    "def pre(T):\n",
    "    '''returns true only if root of T is a preterminal node.'''\n",
    "    return T.height()<=2\n",
    "\n",
    "def delta(T1,T2,const=1,rho=1):\n",
    "    '''returns the number of common subset trees if rho=1 and common \n",
    "        subtrees if rho=0 containing their root.\n",
    "        const balances the contribution of subtrees: small values\n",
    "        decay the contribution of lower nodes in large subtrees.'''\n",
    "    if not same_root(T1,T2):\n",
    "        return 0\n",
    "    if(pre(T1) and pre(T2) and T1==T2):\n",
    "        return const\n",
    "    if(not(pre(T1)) and not(pre(T2)) and same_root(T1,T2)):\n",
    "        return const*(rho+delta(T1[0],T2[0]))*(rho+delta(T1[1],T2[1]))\n",
    "    return 1\n",
    "\n",
    "\n",
    "print delta(tree,tree)\n",
    "print TreeKernel(tree,tree,rho=1)"
   ]
  },
  {
   "cell_type": "markdown",
   "metadata": {},
   "source": [
    "## Random Tree Generator"
   ]
  },
  {
   "cell_type": "code",
   "execution_count": 4,
   "metadata": {
    "collapsed": false
   },
   "outputs": [],
   "source": [
    "def g_aux(labels,depth,s):\n",
    "    if(depth==0):\n",
    "        return ''\n",
    "    if(np.random.rand(1)[0]<0.6):\n",
    "        label1,label2=np.random.choice(labels,2)\n",
    "        str1='( '+label1+' '+g_aux(labels,depth-1,s)+' )'\n",
    "        str2='( '+label2+' '+g_aux(labels,depth-1,s)+' )'\n",
    "        return str1+str2\n",
    "    if(np.random.rand(1)[0]<0.5):\n",
    "        label=np.random.choice(labels)\n",
    "        return '('+label+' '+g_aux(labels,depth-1,s)+' )'\n",
    "    if(np.random.rand(1)[0]<0.6):\n",
    "        return g_aux(labels,depth-1,s)\n",
    "    else:\n",
    "        return ''\n",
    "    \n",
    "def gen_rand_tree(labels=['A','B'],maxdepth=4):\n",
    "    label=np.random.choice(labels)\n",
    "    return Tree.fromstring('( '+label+' '+g_aux(labels,maxdepth,'')+' )')\n",
    "\n",
    "def gen_rand_tree_list(ntrees=10,labels=['A','B'],maxdepth=4):\n",
    "    k=0\n",
    "    list_tree=[]\n",
    "    min_nodes=3\n",
    "    while(k<ntrees):\n",
    "        t=gen_rand_tree(labels,maxdepth)        \n",
    "        if(len(str(t))>=4*min_nodes): #test if tree has more that min_nodes\n",
    "            list_tree.append(t)\n",
    "            k+=1\n",
    "    return list_tree"
   ]
  },
  {
   "cell_type": "code",
   "execution_count": 7,
   "metadata": {
    "collapsed": false
   },
   "outputs": [
    {
     "name": "stdout",
     "output_type": "stream",
     "text": [
      "(A (A (A ) (B (B (B ) (B )))) (A (B (B (B )) (B (A ) (A )))))\n"
     ]
    }
   ],
   "source": [
    "print gen_rand_tree(maxdepth=4)"
   ]
  },
  {
   "cell_type": "code",
   "execution_count": 27,
   "metadata": {
    "collapsed": false
   },
   "outputs": [
    {
     "name": "stdout",
     "output_type": "stream",
     "text": [
      "[(6, 'NN-textualorganization'), (5, 'SN-purpose'), (4, 'NS-elaboration'), (3, 'NS-temporal'), (4, 'NS-elaboration'), (3, 'NS-elaboration')]\n",
      "\n",
      "[(6, 'textualorganization'), (5, 'purpose'), (4, 'elaboration'), (3, 'temporal'), (4, 'elaboration'), (3, 'elaboration')]\n"
     ]
    }
   ],
   "source": [
    "l = [(t.height(),t.label()) for i,t in enumerate(tree.subtrees()) if(t.label() != 'EDU')]\n",
    "print l\n",
    "print ''\n",
    "l = [(i,v[3:]) for i,v in l]\n",
    "print l"
   ]
  },
  {
   "cell_type": "markdown",
   "metadata": {},
   "source": [
    "# Classification\n",
    "## Classe abstraite"
   ]
  },
  {
   "cell_type": "markdown",
   "metadata": {},
   "source": [
    "### SVM\n",
    "#### linear"
   ]
  },
  {
   "cell_type": "code",
   "execution_count": 8,
   "metadata": {
    "collapsed": false
   },
   "outputs": [],
   "source": [
    "from sklearn import svm\n",
    "clf = svm.LinearSVC()\n",
    "#clf.fit(X,y)"
   ]
  },
  {
   "cell_type": "markdown",
   "metadata": {},
   "source": [
    "#### with rbf kernel"
   ]
  },
  {
   "cell_type": "code",
   "execution_count": null,
   "metadata": {
    "collapsed": true
   },
   "outputs": [],
   "source": [
    "clf = svm.SVC(kernel=kernels.rbf_kernel)\n",
    "#clf.fit(X,y)"
   ]
  },
  {
   "cell_type": "markdown",
   "metadata": {},
   "source": [
    "### KNN"
   ]
  },
  {
   "cell_type": "code",
   "execution_count": 10,
   "metadata": {
    "collapsed": true
   },
   "outputs": [],
   "source": [
    "from sklearn import neighbors\n",
    "clf = neighbors.KNeighborsClassifier()\n",
    "#clf.fit(X,y)"
   ]
  },
  {
   "cell_type": "markdown",
   "metadata": {},
   "source": [
    "### MaxEnt"
   ]
  },
  {
   "cell_type": "code",
   "execution_count": 11,
   "metadata": {
    "collapsed": true
   },
   "outputs": [],
   "source": [
    "from sklearn import linear_model\n",
    "clf = linear_model.LogisticRegression()\n",
    "#clf.fit(X,y)"
   ]
  },
  {
   "cell_type": "markdown",
   "metadata": {},
   "source": [
    "### Random Forest"
   ]
  },
  {
   "cell_type": "code",
   "execution_count": 12,
   "metadata": {
    "collapsed": true
   },
   "outputs": [],
   "source": [
    "from sklearn import ensemble\n",
    "clf = ensemble.RandomForestClassifier()\n",
    "#clf.fit(X,y)"
   ]
  },
  {
   "cell_type": "markdown",
   "metadata": {},
   "source": [
    "## Scores: Récapitulatif"
   ]
  },
  {
   "cell_type": "code",
   "execution_count": 4,
   "metadata": {
    "collapsed": false
   },
   "outputs": [
    {
     "name": "stdout",
     "output_type": "stream",
     "text": [
      "[]\n"
     ]
    }
   ],
   "source": [
    "import pandas as pd\n",
    "data=[]\n",
    "results=[]\n",
    "\n",
    "d={}\n",
    "\n",
    "\n",
    "\n",
    "#bayes=models.Bayes()\n",
    "#d['Naive Bayes']=models.cross_validation(bayes,x,y2,8)\n",
    "\n",
    "\n",
    "print(data)\n",
    "results.append(d)    \n",
    "\n",
    "df=pd.DataFrame(results) #index=dataset\n",
    "df.to_csv(\"results1.csv\")"
   ]
  },
  {
   "cell_type": "code",
   "execution_count": null,
   "metadata": {
    "collapsed": true
   },
   "outputs": [],
   "source": []
  }
 ],
 "metadata": {
  "kernelspec": {
   "display_name": "Python 2",
   "language": "python",
   "name": "python2"
  },
  "language_info": {
   "codemirror_mode": {
    "name": "ipython",
    "version": 2
   },
   "file_extension": ".py",
   "mimetype": "text/x-python",
   "name": "python",
   "nbconvert_exporter": "python",
   "pygments_lexer": "ipython2",
   "version": "2.7.11"
  }
 },
 "nbformat": 4,
 "nbformat_minor": 0
}
