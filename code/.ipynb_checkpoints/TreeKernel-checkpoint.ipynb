{
 "cells": [
  {
   "cell_type": "markdown",
   "metadata": {},
   "source": [
    "# Tree Kernel"
   ]
  },
  {
   "cell_type": "code",
   "execution_count": 71,
   "metadata": {
    "collapsed": false
   },
   "outputs": [],
   "source": [
    "from nltk.tree import Tree\n",
    "tree = Tree.fromstring('( NN-textualorganization ( EDU 1 )  ( SN-purpose ( NS-elaboration ( EDU 2 )  ( NS-temporal ( EDU 3 )  ( EDU 4 )  )  )  ( NS-elaboration ( NS-elaboration ( EDU 5 )  ( EDU 6 )  )  ( EDU 7 )  )  )  )')"
   ]
  },
  {
   "cell_type": "code",
   "execution_count": 44,
   "metadata": {
    "collapsed": false
   },
   "outputs": [
    {
     "data": {
      "image/png": "[encoded data removed]",
      "text/plain": [
       "Tree('NN-textualorganization', [Tree('EDU', ['1']), Tree('SN-purpose', [Tree('NS-elaboration', [Tree('EDU', ['2']), Tree('NS-temporal', [Tree('EDU', ['3']), Tree('EDU', ['4'])])]), Tree('NS-elaboration', [Tree('NS-elaboration', [Tree('EDU', ['5']), Tree('EDU', ['6'])]), Tree('EDU', ['7'])])])])"
      ]
     },
     "execution_count": 44,
     "metadata": {},
     "output_type": "execute_result"
    }
   ],
   "source": [
    "tree"
   ]
  },
  {
   "cell_type": "code",
   "execution_count": 250,
   "metadata": {
    "collapsed": false
   },
   "outputs": [
    {
     "name": "stdout",
     "output_type": "stream",
     "text": [
      "244\n",
      "452\n"
     ]
    }
   ],
   "source": [
    "def KernelTree(T1,T2,const=1,rho=1):\n",
    "    '''returns the number of common subset tree if rho=1 and common \n",
    "        subtrees if rho=0.\n",
    "        const balances the contribution of subtrees: small values\n",
    "        decay the contribution of lower nodes in large subtrees.'''\n",
    "    K=0\n",
    "    for t1 in T1.subtrees():\n",
    "        for t2 in T2.subtrees():\n",
    "            K+=delta(t1,t2,const,rho)\n",
    "    return K\n",
    "\n",
    "\n",
    "def same_root(T1,T2):\n",
    "    '''returns true only if the label of the root nodes are the same.'''\n",
    "    return T1.label()==T2.label()\n",
    "\n",
    "def pre(T):\n",
    "    '''returns true only if root of T is a preterminal node.'''\n",
    "    return T.height()<=2\n",
    "\n",
    "def delta(T1,T2,const=1,rho=1):\n",
    "    '''returns the number of common subset trees if rho=1 and common \n",
    "        subtrees if rho=0 containing their root.\n",
    "        const balances the contribution of subtrees: small values\n",
    "        decay the contribution of lower nodes in large subtrees.'''\n",
    "    if not same_root(T1,T2):\n",
    "        return 0\n",
    "    if(pre(T1) and pre(T2) and T1==T2):\n",
    "        return const\n",
    "    if(not(pre(T1)) and not(pre(T2)) and same_root(T1,T2)):\n",
    "        return const*(rho+delta(T1[0],T2[0]))*(rho+delta(T1[1],T2[1]))\n",
    "    return 1\n",
    "\n",
    "\n",
    "print delta(tree,tree)\n",
    "print KernelTree(tree,tree,rho=1)"
   ]
  },
  {
   "cell_type": "code",
   "execution_count": 247,
   "metadata": {
    "collapsed": false
   },
   "outputs": [
    {
     "name": "stdout",
     "output_type": "stream",
     "text": [
      "2 4\n"
     ]
    }
   ],
   "source": [
    "T1=Tree.fromstring('(A (C) (B (D) ))')\n",
    "T2=Tree.fromstring('(A (X) (B (D) ))')\n",
    "print delta(T1,T2),KernelTree(T1,T2)"
   ]
  },
  {
   "cell_type": "code",
   "execution_count": 231,
   "metadata": {
    "collapsed": false
   },
   "outputs": [
    {
     "data": {
      "image/png": "[encoded data removed]",
      "text/plain": [
       "Tree('A', [Tree('C', [Tree('B', [Tree('D', [])])]), Tree('B', [Tree('D', [])])])"
      ]
     },
     "execution_count": 231,
     "metadata": {},
     "output_type": "execute_result"
    }
   ],
   "source": [
    "T1"
   ]
  },
  {
   "cell_type": "code",
   "execution_count": 232,
   "metadata": {
    "collapsed": false
   },
   "outputs": [
    {
     "data": {
      "image/png": "[encoded data removed]",
      "text/plain": [
       "Tree('A', [Tree('X', []), Tree('B', [Tree('D', [])])])"
      ]
     },
     "execution_count": 232,
     "metadata": {},
     "output_type": "execute_result"
    }
   ],
   "source": [
    "T2"
   ]
  },
  {
   "cell_type": "code",
   "execution_count": null,
   "metadata": {
    "collapsed": true
   },
   "outputs": [],
   "source": []
  }
 ],
 "metadata": {
  "kernelspec": {
   "display_name": "Python 2",
   "language": "python",
   "name": "python2"
  },
  "language_info": {
   "codemirror_mode": {
    "name": "ipython",
    "version": 2
   },
   "file_extension": ".py",
   "mimetype": "text/x-python",
   "name": "python",
   "nbconvert_exporter": "python",
   "pygments_lexer": "ipython2",
   "version": "2.7.11"
  }
 },
 "nbformat": 4,
 "nbformat_minor": 0
}
