{
 "cells": [
  {
   "cell_type": "markdown",
   "metadata": {},
   "source": [
    "# Experiments"
   ]
  },
  {
   "cell_type": "code",
   "execution_count": 1,
   "metadata": {
    "collapsed": false
   },
   "outputs": [
    {
     "ename": "ImportError",
     "evalue": "No module named vectorizers",
     "output_type": "error",
     "traceback": [
      "\u001b[1;31m---------------------------------------------------------------------------\u001b[0m",
      "\u001b[1;31mImportError\u001b[0m                               Traceback (most recent call last)",
      "\u001b[1;32m<ipython-input-1-f4087989af78>\u001b[0m in \u001b[0;36m<module>\u001b[1;34m()\u001b[0m\n\u001b[1;32m----> 1\u001b[1;33m \u001b[1;32mimport\u001b[0m \u001b[0mvectorizers\u001b[0m\u001b[1;33m\u001b[0m\u001b[0m\n\u001b[0m\u001b[0;32m      2\u001b[0m \u001b[1;32mimport\u001b[0m \u001b[0mkernels\u001b[0m\u001b[1;33m\u001b[0m\u001b[0m\n\u001b[0;32m      3\u001b[0m \u001b[1;32mfrom\u001b[0m \u001b[0mnltk\u001b[0m\u001b[1;33m.\u001b[0m\u001b[0mtree\u001b[0m \u001b[1;32mimport\u001b[0m \u001b[0mTree\u001b[0m\u001b[1;33m\u001b[0m\u001b[0m\n\u001b[0;32m      4\u001b[0m \u001b[1;32mimport\u001b[0m \u001b[0mnumpy\u001b[0m \u001b[1;32mas\u001b[0m \u001b[0mnp\u001b[0m\u001b[1;33m\u001b[0m\u001b[0m\n\u001b[0;32m      5\u001b[0m \u001b[1;32mfrom\u001b[0m \u001b[0msklearn\u001b[0m \u001b[1;32mimport\u001b[0m \u001b[0msvm\u001b[0m\u001b[1;33m\u001b[0m\u001b[0m\n",
      "\u001b[1;31mImportError\u001b[0m: No module named vectorizers"
     ]
    }
   ],
   "source": [
    "import vectorizers\n",
    "import kernels\n",
    "from nltk.tree import Tree\n",
    "import numpy as np\n",
    "from sklearn import svm\n",
    "from sklearn import cross_validation\n",
    "from sklearn import feature_extraction\n",
    "\n",
    "with open('../data/3gables.csv','r') as f:\n",
    "\ts1 = f.read()\n",
    "\n",
    "with open('../data/100west.csv','r') as f:\n",
    "\ts2 = f.read()\n",
    "\n",
    "\n",
    "int2cl = {0:'descriptive', 1:'argumentative', 2:'narrative',3:'explicative'}\n",
    "\n",
    "t1 = Tree.fromstring(s1)\n",
    "t2 = Tree.fromstring(s2)\n",
    "t_list = [t1,t2,t2,t1,t1,t2]\n",
    "\n",
    "D = np.array([vectorizers.build_norm_vect(t) for t in t_list])\n",
    "y = np.array([0,1,1,0,0,1])\n",
    "\n",
    "\n",
    "#print kernels.rbf_kernel(v1,v2)\n",
    "#print kernels.vector_kernel(v1,v2)\n",
    "\n",
    "\n",
    "def compute_kernel(X,Y,kernel=kernels.rbf_kernel):\n",
    "\t\"\"\"computes a gram matrix K with matrices X and Y \n",
    "\tsuch as K[i,j] = kernel(X[i],Y[j]).\n",
    "\t\"\"\"\n",
    "\tK = np.zeros((X.shape[0],Y.shape[0]))\n",
    "\tfor i,x in enumerate(X):\n",
    "\t\tfor j,y in enumerate(Y):\n",
    "\t\t\tK[i, j] = kernel(x,y)\n",
    "\treturn K\n",
    "\n",
    "#K = compute_kernel(X,X)\n",
    "\n",
    "\n",
    "clf1 = svm.SVC(kernel=\"precomputed\")\n",
    "#clf1.fit(K,y)\n",
    "#print(clf1.predict(K))\n",
    "\n",
    "\n",
    "\n",
    "v = feature_extraction.DictVectorizer(sparse=False)\n",
    "X = v.fit_transform(D)\n",
    "Y = v.inverse_transform(X)\n",
    "#print X\n",
    "#print ''\n",
    "#print Y\n",
    "\n",
    "clf2 = svm.LinearSVC()\n",
    "clf2.fit(X,y)\n",
    "print(clf2.predict(X))\n",
    "print [int2cl[x] for x in clf2.predict(X)]\n",
    "\n",
    "scores = cross_validation.cross_val_score(clf2,X,y,cv=2)\n",
    "print(\"Accuracy: %0.2f (+/- %0.2f)\" % (scores.mean(), scores.std() * 2))\n",
    "\n",
    "\n",
    "clf3 = svm.SVC(kernel='rbf')\n",
    "clf3.fit(X,y)\n",
    "print(clf3.predict(X))\n",
    "#print kernels.tree_kernel(t1,t2)\n",
    "#print(v2)\n",
    "\n"
   ]
  },
  {
   "cell_type": "code",
   "execution_count": null,
   "metadata": {
    "collapsed": true
   },
   "outputs": [],
   "source": []
  }
 ],
 "metadata": {
  "kernelspec": {
   "display_name": "Python 2",
   "language": "python",
   "name": "python2"
  },
  "language_info": {
   "codemirror_mode": {
    "name": "ipython",
    "version": 2
   },
   "file_extension": ".py",
   "mimetype": "text/x-python",
   "name": "python",
   "nbconvert_exporter": "python",
   "pygments_lexer": "ipython2",
   "version": "2.7.11"
  }
 },
 "nbformat": 4,
 "nbformat_minor": 0
}
