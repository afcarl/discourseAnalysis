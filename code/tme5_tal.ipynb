{
 "cells": [
  {
   "cell_type": "markdown",
   "metadata": {},
   "source": [
    "# TME5: clustering thématique & sémantique\n",
    "\n"
   ]
  },
  {
   "cell_type": "code",
   "execution_count": 1,
   "metadata": {
    "collapsed": true
   },
   "outputs": [],
   "source": [
    "import numpy as  np\n",
    "import codecs\n",
    "import matplotlib.pyplot as plt\n",
    "import unicodedata\n",
    "import re\n",
    "from collections import Counter,defaultdict\n",
    "import os\n",
    "import string\n",
    "import pdb\n",
    "import nltk\n",
    "import scipy"
   ]
  },
  {
   "cell_type": "markdown",
   "metadata": {},
   "source": [
    "## 1. Chargement des données (automatique)\n",
    "### Données 20 newsgroup"
   ]
  },
  {
   "cell_type": "code",
   "execution_count": 2,
   "metadata": {
    "collapsed": true
   },
   "outputs": [],
   "source": [
    "import nltk.corpus.reader as pt\n",
    "path2data = u'../data/20news-18828/'\n",
    "\n",
    "rdr = pt.CategorizedPlaintextCorpusReader(path2data, '.*/[0-9]+', encoding='latin1', cat_pattern='([\\w\\.]+)/*')\n",
    "docs = [[rdr.raw(fileids=[f]) for f in rdr.fileids(c) ] for c in rdr.categories()]"
   ]
  },
  {
   "cell_type": "code",
   "execution_count": 6,
   "metadata": {
    "collapsed": false
   },
   "outputs": [
    {
     "data": {
      "text/plain": [
       "20"
      ]
     },
     "execution_count": 6,
     "metadata": {},
     "output_type": "execute_result"
    }
   ],
   "source": [
    "len(docs)"
   ]
  },
  {
   "cell_type": "markdown",
   "metadata": {},
   "source": [
    "### Labels y associés"
   ]
  },
  {
   "cell_type": "code",
   "execution_count": 12,
   "metadata": {
    "collapsed": false
   },
   "outputs": [],
   "source": [
    "y=[i for i,doc in enumerate(docs) for di in doc]"
   ]
  },
  {
   "cell_type": "markdown",
   "metadata": {},
   "source": [
    "### Preprocess docs"
   ]
  },
  {
   "cell_type": "code",
   "execution_count": 7,
   "metadata": {
    "collapsed": false
   },
   "outputs": [],
   "source": [
    "def preprocessSent(s):\n",
    "    punc = u''.join([ch for ch in string.punctuation]) # je laisse les points pour pouvoir séparer les phrases\n",
    "    punc += u'\\n\\r\\t\\\\'\n",
    "    table =string.maketrans(punc + string.digits, ' '*(len(punc)+len(string.digits)))\n",
    "    s = string.translate(unicodedata.normalize(\"NFKD\",s).encode(\"ascii\",\"ignore\"),table).lower() # elimination des accents + minuscules\n",
    "    return s\n",
    "\n",
    "docs_processed=[preprocessSent(i).split() for d in docs for i in d ]\n",
    "\n",
    "vocab=np.unique(np.array([w for doc in docs_processed for w in doc]))\n",
    "\n",
    "#compte le nombre d'occurences des mots\n",
    "num_occurs= dict((key, 0) for key in vocab)\n",
    "for doc in docs_processed:\n",
    "    for w in doc:\n",
    "        num_occurs[w]+=1"
   ]
  },
  {
   "cell_type": "code",
   "execution_count": 28,
   "metadata": {
    "collapsed": false
   },
   "outputs": [
    {
     "name": "stdout",
     "output_type": "stream",
     "text": [
      "From: sera@zuma.UUCP (Serdar Argic)\n",
      "Subject: Re: Jews in LATVIA - some documents\n",
      "\n",
      "In article <C4zvvG.50D@unix.amherst.edu> nwbernst@unix.amherst.edu (Neil Bernstein) writes:\n",
      "\n",
      ": Pardon me? Here is to an amherst-clown:\n",
      ": \n",
      ": \"Your three chiefs, Dro, Hamazasp and Kulkhandanian are the ringleaders\n",
      ":  of the bands which have destroyed Tartar villages and have staged \n",
      ":  massacres in Zangezour, Surmali, Etchmiadzin, and Zangibasar. This is\n",
      ":  intolerable.\n",
      "\n",
      ">This is about Armenia.\n",
      "\n",
      "Were you expecting a different response? Here is another one:\n",
      "\n",
      "Source: K. S. Papazian, \"Patriotism Perverted,\" Baikar Press, Boston, 1934, \n",
      "        (73 pages with Appendix).\n",
      "\n",
      "p. 25 (third paragraph)\n",
      "\n",
      "\"Some real fighters sprang up from among the people, who struck terror\n",
      " into the hearts of the Turks.\"\n",
      "\n",
      "\n",
      "\"Within a few months after the war began, these Armenian guerrilla\n",
      " forces, operating in close coordination with the Russians, were\n",
      " savagely attacking Turkish cities, towns and villages in the east,\n",
      " massacring their inhabitants without mercy, while at the same time\n",
      " working to sabotage the Ottoman army's war effort by destroying roads\n",
      " and bridges, raiding caravans, and doing whatever else they could to\n",
      " ease Russian occupation. The atrocities committed by the Armenian \n",
      " volunteer forces accompanying the Russian army were so severe that the \n",
      " Russian commanders themselves were compelled to withdraw them from the \n",
      " fighting fronts and sent them to rear guard duties. The memoirs of many\n",
      " Russian officers who served in the east at this time are filled with \n",
      " accounts of the revolting atrocities committed by these Armenian \n",
      " guerrillas, which were savage even by relatively primitive standards of\n",
      " war then observed in such areas.[1]\"\n",
      "\n",
      "[1] \"Journal de Guerre du Deuxieme d'Artillerie de Forteresse Russe \n",
      "     d'Erzeroum,\" 1919, p. 28.\n",
      "\n",
      ": >honored me by reproducing my text.  Unfortunately, he has still not produced\n",
      ": >the \"documents\" on \"Jews in LATVIA.\"  Instead, he asks for my views on the\n",
      ": >\"Turkish Genocide.\"  Well, that debate seems to be going on in a few hundred\n",
      ": >other threads.  I'll let other people bring the usual charges, try to debunk\n",
      ": >Mutlu/Argic/Cosar (a net-wide Terrorism Triangle?) and their spurious evidence.\n",
      ": \n",
      ": When that does ever happen, look out the window to see if there is a\n",
      ": non-fascist x-Soviet Armenian Government in the East. Now, where is\n",
      ": your non-existent list of scholars? What a moronian. During the First \n",
      ": World War and the ensuing years - 1914-1920, the Armenian Dictatorship \n",
      ": through a premeditated and systematic genocide, tried to complete its \n",
      ": centuries-old policy of annihilation against the Turks and Kurds by \n",
      ": savagely murdering 2.5 million Muslims and deporting the rest from \n",
      ": their 1,000 year homeland.\n",
      "\n",
      ">This paragraph is well-written and interesting, Serdar baby, but it has nothing\n",
      ">to do with Jews in LATVIA.  I have not presented a list of scholars.  \n",
      "\n",
      "How could you? Because there is none.\n",
      "\n",
      ">I am not\n",
      ">interested in an ex-Soviet (why do you write x-?  It's very cute) Armenian\n",
      ">Government, non-fascist or otherwise.  You are not responding to what I am\n",
      ">writing.  Instead, you are autoposting your own particular brand of bullshit.\n",
      "\n",
      "Like conversing with a brick wall. And you are not responding to what I \n",
      "am writing. By the way, that \"bullshit\" is justly regarded as the first \n",
      "instance of Genocide in the 20th Century acted upon an entire people.\n",
      "For nearly one thousand years, the Turkish and Kurdish people lived \n",
      "on their homeland - the last one hundred under the oppressive Soviet \n",
      "and Armenian occupation. The persecutions culminated in 1914: The \n",
      "Armenian Government planned and carried out a Genocide against its \n",
      "Muslim subjects. 2.5 million Turks and Kurds were murdered and the \n",
      "remainder driven out of their homeland. After one thousand years, \n",
      "Turkish and Kurdish lands were empty of Turks and Kurds. \n",
      "\n",
      "The survivors found a safe heaven in Turkiye.\n",
      "\n",
      "Today, x-Soviet Armenian government rejects the right of Turks and \n",
      "Kurds to return to their Muslim lands occupied by x-Soviet Armenia.\n",
      "\n",
      "Today, x-Soviet Armenia covers up the genocide perpetrated by its \n",
      "predecessors and is therefore an accessory to this crime against \n",
      "humanity.\n",
      "\n",
      "x-Soviet Armenia must pay for its crime of genocide against the Muslims \n",
      "by admitting to the crime and making reparations to the Turks and Kurds.\n",
      "\n",
      ">You have now done so four times in a row.  May I legitimately conclude that\n",
      ">you are not, indeed, a regular net-user, but an auto-posting computer program?\n",
      ">(which, for convenience, I have called MUTLU.EXE.)\n",
      "\n",
      "You may assert whatever you wish.\n",
      "\n",
      ">Here we go with MUTLU.EXE's famed list of sources:\n",
      "\n",
      "Ditto.\n",
      "\n",
      ": The attempt at genocide is justly regarded as the first instance\n",
      ": of Genocide in the 20th Century acted upon an entire people.\n",
      ": This event is incontrovertibly proven by historians, government\n",
      ": and international political leaders, such as U.S. Ambassador Mark \n",
      ": Bristol, ...\n",
      "\n",
      ">(and on and on for 46 lines)\n",
      "\n",
      "And still anxiously awaiting...\n",
      "\n",
      ": .......so the list goes on and on and on.....\n",
      ": \n",
      ": >I'm still trying to find out about those Jews in LATVIA.  Can you post those \n",
      ": >documents PLEEEEEEEASE, Mr. Argic?  Puh-leeze could you?  C'mon, it's my\n",
      ": >birthday in three weeks... post them for me as a birthday present.\n",
      ": \n",
      ": Remember, the issue at hand is the cold-blooded genocide of 2.5 million \n",
      ": Muslim people by the Armenians between 1914-1920, and the Armenian-Nazi \n",
      ": collaboration during World War II. Anything to add?\n",
      "\n",
      ">No, darling, READ what I post!  Other people are asking you about the Turkish\n",
      ">genocide.  I am asking you to produce the documents on Jews in Latvia.  No\n",
      ">matter how many times you erase what I post, I will still post the same\n",
      ">question.  Post the documents on Jews in Latvia.  Do not autopost the same\n",
      ">block of text about the Turkish genocide.  \n",
      "\n",
      "Remember, the issue at hand is the Armenian-Nazi collaboration during \n",
      "World War II and the Turkish Genocide. And I still fail to see how\n",
      "you can challenge the following western sources.\n",
      "\n",
      "Source: John Dewey: \"The New Republic,\" Vol. 40, Nov. 12, 1928, pp. 268-9.\n",
      "\n",
      "\"Happy the minority [Jews] which has had no Christian nation to protect it.\n",
      " And one recalls that the Jews took up their abode in 'fanatic' Turkey\n",
      " when they were expelled from Europe, especially Spain, by Saintly Christians,\n",
      " and they have lived here for centuries in at least as much tranquility and\n",
      " liberty as their fellow Turkish subjects, all being exposed alike to the\n",
      " rapacity of their common rulers. To one brought up, as most Americans have \n",
      " been, in the Gladstonian and foreign-missionary tradition, the condition of \n",
      " the Jews in Turkey is almost a mathematical demonstration that religious\n",
      " differences have had an influence in the tragedy of Turkey only as they\n",
      " were combined with aspirations for a political separation which every \n",
      " nation in the world would have treated as treasonable. One readily \n",
      " reaches the conclusion that the Jews in Turkey were fortunate...\" \n",
      "\n",
      "He also stated that:\n",
      "\n",
      "\"they [Armenians] traitorously turned Turkish cities over to the Russian \n",
      " invader; that they boasted of having raised an army of one hundred and\n",
      " fifty thousand men to fight a civil war, and that they burned at least\n",
      " a hundred Turkish villages and exterminated their population.\"\n",
      "\n",
      ": >I want the documents of Jews in Latvia.  I think several other\n",
      ": >people on soc.culture.greek are already disputing with you about the Turkish\n",
      ": >Genocide.\n",
      ": \n",
      ": Is this the joke of the month? Who, when, how, where? What a clown...\n",
      "\n",
      ">No, sweetie, the joke of the month is that you have now posted the same\n",
      ">block of text four times, but you still have not produced the documents on\n",
      ">Jews in Latvia.  Instead, you post the same text you post in every other\n",
      ">message, that same old McCarthy table: (how appropriate it's named \"McCarthy!\")\n",
      "\n",
      "How about Prof Shaw, a Jewish scholar?\n",
      "\n",
      "Source: Stanford J. Shaw, on Armenian collaboration with invading Russian\n",
      "armies in 1914, \"History of the Ottoman Empire and Modern Turkey (Volume\n",
      "II: Reform, Revolution & Republic: The Rise of Modern Turkey, 1808-1975).\"\n",
      "(London, Cambridge University Press 1977). pp. 315-316.\n",
      "\n",
      "\"In April 1915 Dashnaks from Russian Armenia organized a revolt in the city \n",
      " of Van, whose 33,789 Armenians comprised 42.3 percent of the population, \n",
      " closest to an Armenian majority of any city in the Empire...Leaving Erivan \n",
      " on April 28, 1915, Armenian volunteers reached Van on May 14 and organized \n",
      " and carried out a general slaughter of the local Muslim population during \n",
      " the next two days while the small Ottoman garrison had to retreat to the\n",
      " southern side of the lake.\"\n",
      "\n",
      "\"Knowing their numbers would never justify their territorial ambitions,\n",
      " Armenians looked to Russia and Europe for the fulfillment of their aims.\n",
      " Armenian treachery in this regard culminated at the beginning of the First\n",
      " World War with the decision of the revolutionary organizations to refuse\n",
      " to serve their state, the Ottoman Empire, and to assist instead other\n",
      " invading Russian armies. Their hope was their participation in the Russian\n",
      " success would be rewarded with an independent Armenian state carved out of\n",
      " Ottoman territories. Armenian political leaders, army officers, and common\n",
      " soldiers began deserting in droves.\"\n",
      "\n",
      "\"With the Russian invasion of eastern Anatolia in 1914 at the beginning of\n",
      " World War I, the degree of Armenian collaboration with the Ottoman's enemy\n",
      " increased drastically. Ottoman supply lines were cut by guerilla attacks,\n",
      " Armenian revolutionaries armed Armenian civil populations, who in turn\n",
      " massacred the Muslim population of the province of Van in anticipation of\n",
      " expected arrival of the invading Russian armies.\"\n",
      "\n",
      "Source: Stanford J. Shaw, \"History of the Ottoman Empire and Modern Turkey,\"\n",
      "        Vol II. Cambridge University Press, London, 1979, pp. 314-317.\n",
      "\n",
      "\"...Meanwhile, Czar Nicholas II himself came to the Caucasus to make final\n",
      " plans for cooperation with the Armenians against the Ottomans, with the \n",
      " president of the Armenian National Bureau in Tiflis declaring in response:\n",
      "\n",
      " 'From all countries Armenians are hurrying to enter the ranks of the \n",
      "  glorious Russian Army, with their blood to serve the victory of Russian\n",
      "  arms...Let the Russian flag wave freely over the Dardanelles and the\n",
      "  Bosporus. Let, with Your will, great Majesty, the peoples remaining\n",
      "  under the Turkish yoke receive freedom. Let the Armenian people of Turkey\n",
      "  who have suffered for the faith of Christ receive resurrection for a new\n",
      "  free life under the protection of Russia.'[155]\n",
      "\n",
      "Armenians again flooded into the czarist armies. Preparations were made\n",
      "to strike the Ottomans from the rear, and the czar returned to St. Petersburg\n",
      "confident that the day finally had come for him to reach Istanbul.\"\n",
      "\n",
      "[155] Horizon, Tiflis, November 30, 1914, quoted by Hovannisian, \"Road to\n",
      "Independence,\" p. 45; FO 2485, 2484/46942, 22083.\n",
      "\n",
      "\"Ottoman morale and military position in the east were seriously hurt, and\n",
      " the way was prepared for a new Russian push into eastern Anatolia, to be\n",
      " accompanied by an open Armenian revolt against the sultan.[156]\"\n",
      "\n",
      "[156] Hovannisian, \"Road to Independence,\" pp. 45-47; Bayur, III/1, \n",
      "pp. 349-380; W.E.D. Allen and P. Muratoff, \"Caucasian Battlefields,\"\n",
      "Cambridge, 1953, pp. 251-277; Ali Ihsan Sabis, \"Harb Hahralaram,\" 2 vols.,\n",
      "Ankara, 1951, II, 41-160; FO 2146 no. 70404; FO 2485; FO 2484, nos.\n",
      "46942 and 22083.\n",
      "\n",
      "\"An Armenian state was organized at Van under Russian protection, and it \n",
      " appeared that with the Muslim natives dead or driven away, it might be\n",
      " able to maintain itself at one of the oldest centers of ancient Armenian\n",
      " civilization. An Armenian legion was organized 'to expel the Turks from\n",
      " the entire southern shore of the lake in preparation for a concerted\n",
      " Russian drive into the Bitlis vilayet.'[162] Thousands of Armenians from\n",
      " Mus and other major centers in the east began to flood into the new \n",
      " Armenian state...By mid-July there were as many as 250,000 Armenians\n",
      " crowded into the Van area, which before the crisis had housed and fed\n",
      " no more than 50,000 people, Muslim and non-Muslim alike.[163]\"\n",
      "\n",
      "[162] Hovannisian, \"Road to Independence,\" p. 56; FOP 2488, nos. 127223 and\n",
      "58350.\n",
      "\n",
      "[163] BVA, Meclis-i Vukela Mazbatalari, debates of August 15-17, 1915; \n",
      "Babi-i Ali Evrak Odasi, no. 175, 321, \"Van Ihtilali ve Katl-i Ami,\"\n",
      "Zilkade 1333/10 September 1915.\n",
      "\n",
      ":     Muslim population exterminated by the Armenians:\n",
      "\n",
      ">(31 lines deleted)\n",
      "\n",
      "Why?\n",
      "\n",
      ": Who gives a thunder about your pseudo-scholar jokes? I'am arguing about \n",
      ": the Armenian-Nazi colaboration during World War II. Any comment?\n",
      "\n",
      ">Argue it with someone else or do not reply to my posts, Argic my love.  I \n",
      ">am not arguing about the Armenian-Nazi collaboration.  I do not give a \n",
      ">thunder about it.  I want you to do one of three things:\n",
      ">a) admit that you are not a regular user, but a computer autoposting Turkish\n",
      ">propaganda, or,\n",
      ">b) post the documents on Jews in Latvia, or,\n",
      ">c) run away, like the coward without a real address that you are, and do not\n",
      ">reply to my posts.\n",
      "\n",
      "It could be, perhaps, your head wasn't screwed on just right. In 1941, \n",
      "while the Jews were being assembled for their doom in the Nazi concentration \n",
      "camps, the Armenian volunteers in Germany formed the first Armenian \n",
      "battalion to fight alongside the Nazis. In 1943, this battalion had \n",
      "grown into eight battalions of 20,000-strong under the command of the\n",
      "former guerilla leader Dro (the butcher), who was the former dictator of the\n",
      "short-lived Armenian Dictatorship (1918-1920) and the architect of the \n",
      "cold-blooded genocide of 2.5 million Turks and Kurds between 1914-1920.\n",
      "An Armenian National Council was formed by the notorious Dashnak Party \n",
      "leaders in Berlin, which was recognized by the Nazis. Encouraged by \n",
      "this, the Armenians summarily formed a provisional government that endorsed \n",
      "and espoused fully the principles of the Nazis and declared themselves as the \n",
      "members of the Aryan super race and full participants to Hitler's policy of \n",
      "extermination of the Jews.\n",
      "\n",
      "This Armenian-Nazi conspiracy against the Jews during WWII was an \"encore\"\n",
      "performance staged by the Armenians during WWI, when they back-stabbed and\n",
      "exterminated 2.5 million Turks by colluding with the invading Russian army.\n",
      "\n",
      "Furthermore, as McCarthy put it, the Armenian dictatorship was granted\n",
      "a respite when the Ottomans admitted defeat and signed the Mudros\n",
      "Armistice with the Allies (October 30, 1918). The Allies had decided\n",
      "to create a Greater Armenia, including the old Russian province\n",
      "of Yerevan and adjoining areas, as well as most parts of Anatolia\n",
      "claimed by the Armenian fanatics. Only the area called Cilicia\n",
      "(around the Ottoman province of Adana) was to be excluded, as it\n",
      "had already been claimed by the French. The Allies quickly set\n",
      "about attempting to disarm Ottoman soldiers and other Turks, who\n",
      "could be expected to oppose their plans. \n",
      "\n",
      "On April 19, 1919 the British Army occupied Kars, gave civilian\n",
      "and military power over to the Armenians, then withdrew. The British\n",
      "planned for Kars to be included in the Armenian Dictatorship, even \n",
      "though the Russian pre-war census had shown Kars Province to be over\n",
      "60% Muslim. The Turks of Kars were effectively disarmed, but the \n",
      "British could not disarm the Kurds of the mountains. The fate of\n",
      "the Turks was almost an exact replica of what had occurred earlier\n",
      "in Eastern Anatolia. Murder, pillage, genocide and the destruction\n",
      "of Turkish homes and entire Turkish villages drove the Turks of\n",
      "Kars to the mountains or south and west to the safety afforded\n",
      "by remaining units of the Ottoman Army. The British had left \n",
      "the scene to the Armenian genocide squads. Therefore, few \n",
      "Europeans were present to observe the genocide. One British\n",
      "soldier, Colonel Rawlinson, who was assigned to supervise the\n",
      "disarmament of Otoman soldiers, saw what was occurring. \n",
      "\n",
      "Rawlinson wired to his superiors, \n",
      "\n",
      "\"in the interest of humanity the Armenians should not be left in\n",
      " independent command of the Moslim population, as, their troops \n",
      " being without discipline and not being under effective control,\n",
      " atrocities were constantly being committed.\" \n",
      "\n",
      ">Instead, you post more Armenian nonsense:\n",
      "\n",
      "Come again?\n",
      "\n",
      ": \"These European Dashnags, with headquarters in Berlin, appealed to...\n",
      ">(34 lines deleted)\n",
      "\n",
      "Why?\n",
      "\n",
      ": No wonder you are in such a mess. Here are the Armenian sources on the\n",
      ": Turkish Holocaust.\n",
      ">(30+ lines deleted) \n",
      "\n",
      "Why?\n",
      "\n",
      ">(list of dead Armenians, 100+ lines, deleted): \n",
      "\n",
      "Obrother. Spell it out, \"list of dead Muslims\":\n",
      "\n",
      "Source: Documents: Volume I (1919).\n",
      "        \"Document No: 64,\" Archive No: 1/2, Cabin No: 109, Drawer \n",
      "        No: 4, File No: 359, Section No: 103(1435), Contents No: 3-20.\n",
      "        (To Acting Supreme Command - Socialist Salah Cimcoz, Socialist \n",
      "        Nesim Mazelyah)\n",
      "\n",
      "\"Armenian gangs have been murdering and inflicting cruelties on\n",
      " innocent people of the region. This verified information, supported\n",
      " by clear statements of reliable eyewitnesses, was also confirmed by\n",
      " General Odishelidje, Commander of the Russian Caucasian Army.\n",
      "\n",
      " Armenians are entering every place evacuated by Russians carrying out\n",
      " murders, cruelties, rape and all kind of atrocities which cannot be\n",
      " expressed in writing, murdering all the women, children, aged people\n",
      " who happen to be in the street. These barbarous murders repeated \n",
      " every day with new methods continue and the Russian Army has been urged\n",
      " to intervene to terminate these atrocities. Public opinion is appalled\n",
      " and horrified. Newspapers are describing the happenings as shocking.\n",
      " We have decided to inform all our friends urgently about the situation.\"\n",
      "\n",
      "        \"Document No: 65,\" Archive No: 4/3671, Cabin No: 163, Drawer \n",
      "        No: 5, File No: 2947, Section No: 628, Contents No: 3-1, 3-3.\n",
      "        (To Acting Supreme Command - Commander, 3rd Army General)\n",
      "\n",
      "\"The situation in the cities of Erzincan and Erzurum which we have \n",
      " recently taken over is given below:\n",
      "\n",
      " These two beautiful cities of our country which are alike in the\n",
      " calamities and destruction which they suffered, have been destroyed,\n",
      " as the specially designed and built public and private buildings of\n",
      " these cities were deliberately burnt by Armenians apart from the \n",
      " destruction suffered during the two-year Russian occupation.\n",
      "\n",
      " All barracks buildings of Erzincan, the cavalry barracks in Erzurum,\n",
      " the Government building and Army Corps Headquarters are among those\n",
      " burnt. In short, both cities are burnt, destroyed and trees cut down.\n",
      "\n",
      " As to the people of these cities:\n",
      "\n",
      " All people old enough to use weapons rounded up, taken to the Sarikamis\n",
      " direction for road building and were slaughtered. The remaining people,\n",
      " were subject to cruelties and murder by Armenians following the \n",
      " withdrawal of Russians and were partly annihilated the corpses thrown \n",
      " into wells, burnt in houses, mutilated by bayonets, their abdomens\n",
      " ripped open in slaughterhouses, their lungs and livers torn out, girls\n",
      " and women hung up by their hair, after all kinds of devilish acts.\n",
      " The few people who were able to survive these cruelties, worse than\n",
      " those of the 'Spanish Inquisition,' are in poverty more dead than alive,\n",
      " horrified, some driven insane, about 1500 in Erzincan and 30,000 in\n",
      " Erzurum. The people are hungry and in poverty, for whatever they had\n",
      " has been taken away from them, their lands left uncultivated.\n",
      "\n",
      " The people have just been able to exist with some provisions found in\n",
      " stores left over from the Russians. The villages round Erzincan and \n",
      " Erzurum are in the worst condition. Some villages on the road, have \n",
      " been leveled to the ground, leaving no stone, the people completely\n",
      " massacred.\n",
      "\n",
      " Let me submit to your information with deep grief and regret that\n",
      " history has never before witnessed cruelties at such dimensions.\"\n",
      "\n",
      ":  (a long list)\n",
      ":  (a long list)\"\n",
      "\n",
      "And still anxiously awaiting...\n",
      "\n",
      "Serdar Argic\n",
      "\n",
      "                           'We closed the roads and mountain passes that \n",
      "                            might serve as ways of escape for the Turks \n",
      "                            and then proceeded in the work of extermination.'\n",
      "                                                  (Ohanus Appressian - 1919)\n",
      "                           'In Soviet Armenia today there no longer exists \n",
      "                            a single Turkish soul.' (Sahak Melkonian - 1920)\n",
      "\n"
     ]
    }
   ],
   "source": [
    "docs_processed=[preprocessSent(i) for d in docs for i in d ]\n",
    "#print docs_processed[0]\n",
    "print docs[17][4]"
   ]
  },
  {
   "cell_type": "markdown",
   "metadata": {},
   "source": [
    "### Création du dictionnaire"
   ]
  },
  {
   "cell_type": "code",
   "execution_count": 14,
   "metadata": {
    "collapsed": false,
    "scrolled": true
   },
   "outputs": [
    {
     "name": "stdout",
     "output_type": "stream",
     "text": [
      "89070\n"
     ]
    }
   ],
   "source": [
    "dico={}\n",
    "dico_decode={}\n",
    "for index,w in enumerate(vocab):\n",
    "    #if(num_occurs[w]>=15):\n",
    "    dico[w]=index\n",
    "    dico_decode[index]=w\n",
    "print len(dico.values())"
   ]
  },
  {
   "cell_type": "markdown",
   "metadata": {},
   "source": [
    "### Représentation en sacs de mots"
   ]
  },
  {
   "cell_type": "code",
   "execution_count": 15,
   "metadata": {
    "collapsed": false
   },
   "outputs": [
    {
     "name": "stdout",
     "output_type": "stream",
     "text": [
      "bow computed\n"
     ]
    }
   ],
   "source": [
    "N=len(docs_processed)\n",
    "D=len(dico.values())\n",
    "\n",
    "# choix important pour les matrices sparses (lil = plus rapide pour notre tache)\n",
    "bow=scipy.sparse.lil_matrix((N,D))\n",
    "cpt=0\n",
    "def add1(i,j):\n",
    "    bow[i,j] += 1\n",
    "\n",
    "[[add1(i,dico[m]) for m in s if(m in dico)] for i,s in enumerate(docs_processed)]\n",
    "\n",
    "print \"bow computed\""
   ]
  },
  {
   "cell_type": "code",
   "execution_count": null,
   "metadata": {
    "collapsed": true
   },
   "outputs": [],
   "source": [
    "# normalisation des documents (pour une représentation frequentielle)\n",
    "#bowN = bow / bow.sum(1)"
   ]
  },
  {
   "cell_type": "code",
   "execution_count": null,
   "metadata": {
    "collapsed": false
   },
   "outputs": [],
   "source": [
    "#import pickle\n",
    "#filename='bow_small'\n",
    "#pickle.dump({'bow':bow,'bowN':bowN},open(filename+'.p','wb'))"
   ]
  },
  {
   "cell_type": "markdown",
   "metadata": {},
   "source": [
    "## Algorithme des k-means\n",
    "\n"
   ]
  },
  {
   "cell_type": "code",
   "execution_count": 18,
   "metadata": {
    "collapsed": false
   },
   "outputs": [
    {
     "name": "stdout",
     "output_type": "stream",
     "text": [
      "()\n"
     ]
    },
    {
     "ename": "ValueError",
     "evalue": "axis(=1) out of bounds",
     "output_type": "error",
     "traceback": [
      "\u001b[1;31m---------------------------------------------------------------------------\u001b[0m",
      "\u001b[1;31mValueError\u001b[0m                                Traceback (most recent call last)",
      "\u001b[1;32m<ipython-input-18-63459274c43f>\u001b[0m in \u001b[0;36m<module>\u001b[1;34m()\u001b[0m\n\u001b[0;32m      6\u001b[0m     \u001b[0msim\u001b[0m \u001b[1;33m=\u001b[0m \u001b[0mnp\u001b[0m\u001b[1;33m.\u001b[0m\u001b[0marray\u001b[0m\u001b[1;33m(\u001b[0m\u001b[0mbow\u001b[0m\u001b[1;33m.\u001b[0m\u001b[0mdot\u001b[0m\u001b[1;33m(\u001b[0m\u001b[0mprototypes\u001b[0m\u001b[1;33m.\u001b[0m\u001b[0mT\u001b[0m\u001b[1;33m)\u001b[0m\u001b[1;33m)\u001b[0m \u001b[1;31m# métrique type cos\u001b[0m\u001b[1;33m\u001b[0m\u001b[0m\n\u001b[0;32m      7\u001b[0m     \u001b[1;32mprint\u001b[0m \u001b[0msim\u001b[0m\u001b[1;33m.\u001b[0m\u001b[0mshape\u001b[0m\u001b[1;33m\u001b[0m\u001b[0m\n\u001b[1;32m----> 8\u001b[1;33m     \u001b[0my\u001b[0m\u001b[1;33m=\u001b[0m \u001b[0msim\u001b[0m\u001b[1;33m.\u001b[0m\u001b[0margmax\u001b[0m\u001b[1;33m(\u001b[0m\u001b[1;36m1\u001b[0m\u001b[1;33m)\u001b[0m \u001b[1;31m# comprendre les dimensions des matrices pour comprendre ce calcul\u001b[0m\u001b[1;33m\u001b[0m\u001b[0m\n\u001b[0m\u001b[0;32m      9\u001b[0m \u001b[1;33m\u001b[0m\u001b[0m\n\u001b[0;32m     10\u001b[0m \u001b[1;33m\u001b[0m\u001b[0m\n",
      "\u001b[1;31mValueError\u001b[0m: axis(=1) out of bounds"
     ]
    }
   ],
   "source": [
    "nbclasses=40\n",
    "prototypes = bow[np.random.permutation(N)[:nbclasses]] # k protos parmi N documents !\n",
    "\n",
    "#prototypes.shape\n",
    "for i in range(1):\n",
    "    sim = np.array(bow.dot(prototypes.T)) # métrique type cos\n",
    "    print sim.shape\n",
    "    y= sim.argmax(1) # comprendre les dimensions des matrices pour comprendre ce calcul\n",
    "    \n",
    "\n"
   ]
  },
  {
   "cell_type": "code",
   "execution_count": null,
   "metadata": {
    "collapsed": true
   },
   "outputs": [],
   "source": []
  }
 ],
 "metadata": {
  "kernelspec": {
   "display_name": "Python 2",
   "language": "python",
   "name": "python2"
  },
  "language_info": {
   "codemirror_mode": {
    "name": "ipython",
    "version": 2
   },
   "file_extension": ".py",
   "mimetype": "text/x-python",
   "name": "python",
   "nbconvert_exporter": "python",
   "pygments_lexer": "ipython2",
   "version": "2.7.11"
  }
 },
 "nbformat": 4,
 "nbformat_minor": 0
}
