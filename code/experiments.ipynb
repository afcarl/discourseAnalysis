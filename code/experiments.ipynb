{
 "cells": [
  {
   "cell_type": "markdown",
   "metadata": {},
   "source": [
    "# Experiments"
   ]
  },
  {
   "cell_type": "code",
   "execution_count": 1,
   "metadata": {
    "collapsed": true
   },
   "outputs": [],
   "source": [
    "import vectorizers\n",
    "import kernels\n",
    "from nltk.tree import Tree\n",
    "import numpy as np\n",
    "from sklearn import svm\n",
    "from sklearn import cross_validation\n",
    "from sklearn import feature_extraction"
   ]
  },
  {
   "cell_type": "markdown",
   "metadata": {},
   "source": [
    "## loading data"
   ]
  },
  {
   "cell_type": "code",
   "execution_count": 3,
   "metadata": {
    "collapsed": false
   },
   "outputs": [],
   "source": [
    "#loading files\n",
    "with open('../data/tmp/3gables.csv','r') as f:\n",
    "\ts1 = f.read()\n",
    "\n",
    "with open('../data/tmp/100west.csv','r') as f:\n",
    "\ts2 = f.read()\n",
    "\n",
    "\n",
    "int2cl = {0:'descriptive', 1:'argumentative', 2:'narrative',3:'explicative'}\n",
    "\n",
    "t1 = Tree.fromstring(s1)\n",
    "t2 = Tree.fromstring(s2)\n",
    "t_list = [t1,t2,t2,t1,t1,t2]\n",
    "\n",
    "#computing dicts\n",
    "D = np.array([vectorizers.build_norm_vect(t) for t in t_list])\n",
    "y = np.array([0,1,1,0,0,1])\n",
    "\n",
    "#transforming dict to vect\n",
    "v = feature_extraction.DictVectorizer(sparse=False)\n",
    "X = v.fit_transform(D)\n",
    "Y = v.inverse_transform(X)"
   ]
  },
  {
   "cell_type": "markdown",
   "metadata": {},
   "source": [
    "## loading classifiers"
   ]
  },
  {
   "cell_type": "code",
   "execution_count": 3,
   "metadata": {
    "collapsed": false
   },
   "outputs": [
    {
     "name": "stdout",
     "output_type": "stream",
     "text": [
      "[0 1 1 0 0 1]\n",
      "['descriptive', 'argumentative', 'argumentative', 'descriptive', 'descriptive', 'argumentative']\n",
      "Accuracy: 1.00 (+/- 0.00)\n"
     ]
    }
   ],
   "source": [
    "clf2 = svm.LinearSVC()\n",
    "clf2.fit(X,y)\n",
    "print(clf2.predict(X))\n",
    "print [int2cl[x] for x in clf2.predict(X)]\n",
    "\n",
    "scores = cross_validation.cross_val_score(clf2,X,y,cv=2)\n",
    "print(\"Accuracy: %0.2f (+/- %0.2f)\" % (scores.mean(), scores.std() * 2))\n",
    "\n",
    "\n",
    "#clf3 = svm.SVC(kernel='rbf')\n",
    "#clf3.fit(X,y)\n",
    "#clf3.predict(X)"
   ]
  },
  {
   "cell_type": "markdown",
   "metadata": {},
   "source": [
    "## using precomputed kernels"
   ]
  },
  {
   "cell_type": "code",
   "execution_count": 9,
   "metadata": {
    "collapsed": false
   },
   "outputs": [
    {
     "name": "stdout",
     "output_type": "stream",
     "text": [
      "[[ 1.          0.97938667  0.97938667  1.          1.          0.97938667]\n",
      " [ 0.97938667  1.          1.          0.97938667  0.97938667  1.        ]\n",
      " [ 0.97938667  1.          1.          0.97938667  0.97938667  1.        ]\n",
      " [ 1.          0.97938667  0.97938667  1.          1.          0.97938667]\n",
      " [ 1.          0.97938667  0.97938667  1.          1.          0.97938667]\n",
      " [ 0.97938667  1.          1.          0.97938667  0.97938667  1.        ]]\n",
      "[0 1 1 0 0 1]\n"
     ]
    }
   ],
   "source": [
    "def compute_kernel(X,Y,kernel=kernels.rbf_kernel):\n",
    "\t\"\"\"computes a gram matrix K with matrices X and Y \n",
    "\tsuch as K[i,j] = kernel(X[i],Y[j]).\n",
    "\t\"\"\"\n",
    "\tK = np.zeros((len(X),len(Y)))\n",
    "\tfor i,x in enumerate(X):\n",
    "\t\tfor j,y in enumerate(Y):\n",
    "\t\t\tK[i, j] = kernel(x,y)\n",
    "\treturn K\n",
    "\n",
    "#precomputing kernels for train\n",
    "K = compute_kernel(D,D)\n",
    "print(K)\n",
    "\n",
    "clf1 = svm.SVC(kernel=\"precomputed\")\n",
    "clf1.fit(K,y)\n",
    "\n",
    "print(clf1.predict(K))\n",
    "scores = cross_validation.cross_val_score(clf2,X,y,cv=2)\n"
   ]
  },
  {
   "cell_type": "markdown",
   "metadata": {},
   "source": [
    "### Treekernel"
   ]
  },
  {
   "cell_type": "code",
   "execution_count": null,
   "metadata": {
    "collapsed": false
   },
   "outputs": [],
   "source": [
    "K2 = compute_kernel(t_list[:2],t_list[2:],kernels.tree_kernel)"
   ]
  },
  {
   "cell_type": "code",
   "execution_count": null,
   "metadata": {
    "collapsed": true
   },
   "outputs": [],
   "source": [
    "print(K2)\n",
    "clf4  = svm.SVC(kernel='precomputed')\n",
    "clf4.fit(K2,y)"
   ]
  },
  {
   "cell_type": "markdown",
   "metadata": {},
   "source": [
    "### KNN"
   ]
  },
  {
   "cell_type": "code",
   "execution_count": 16,
   "metadata": {
    "collapsed": true
   },
   "outputs": [],
   "source": [
    "from sklearn import neighbors\n",
    "clf5 = neighbors.KNeighborsClassifier()\n",
    "#clf5.fit(X,y)"
   ]
  },
  {
   "cell_type": "markdown",
   "metadata": {},
   "source": [
    "### MaxEnt"
   ]
  },
  {
   "cell_type": "code",
   "execution_count": 17,
   "metadata": {
    "collapsed": true
   },
   "outputs": [],
   "source": [
    "from sklearn import linear_model\n",
    "clf6 = linear_model.LogisticRegression()\n",
    "#clf6.fit(X,y)"
   ]
  },
  {
   "cell_type": "markdown",
   "metadata": {},
   "source": [
    "### Random Forest"
   ]
  },
  {
   "cell_type": "code",
   "execution_count": 4,
   "metadata": {
    "collapsed": true
   },
   "outputs": [],
   "source": [
    "from sklearn import ensemble\n",
    "clf7 = ensemble.RandomForestClassifier()\n",
    "#clf7.fit(X,y)"
   ]
  },
  {
   "cell_type": "code",
   "execution_count": null,
   "metadata": {
    "collapsed": true
   },
   "outputs": [],
   "source": []
  }
 ],
 "metadata": {
  "kernelspec": {
   "display_name": "Python 2",
   "language": "python",
   "name": "python2"
  },
  "language_info": {
   "codemirror_mode": {
    "name": "ipython",
    "version": 2
   },
   "file_extension": ".py",
   "mimetype": "text/x-python",
   "name": "python",
   "nbconvert_exporter": "python",
   "pygments_lexer": "ipython2",
   "version": "2.7.11"
  }
 },
 "nbformat": 4,
 "nbformat_minor": 0
}
